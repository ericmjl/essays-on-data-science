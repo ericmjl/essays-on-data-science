{
 "cells": [
  {
   "cell_type": "markdown",
   "metadata": {},
   "source": [
    "# Dirichlet Processes and Hidden Markov Model Transition Matrices\n",
    "\n",
    "How do we construct transition matrices that prioritize re-entry into a constrained set of states? Especially if we don't have perfect knowledge of how many _true_ states there are?\n",
    "\n",
    "From [Matt Johnson's thesis](https://people.csail.mit.edu/mattjj/thesis/ch3.pdf), I learned exactly how.\n",
    "\n",
    "Some of us might be used to thinking about transition matrices that have strong diagonals.\n",
    "That's all good for providing _stability_ in a sequence of transitions.\n",
    "But if the goal is to provide a model\n",
    "where the constrained set of states is given priority over the other states,\n",
    "then what we _really_ need is a transition matrix where the first K _columns_ of the transition matrix\n",
    "are given priority over the others."
   ]
  },
  {
   "cell_type": "code",
   "execution_count": null,
   "metadata": {},
   "outputs": [],
   "source": [
    "%load_ext autoreload\n",
    "%autoreload 2\n",
    "%matplotlib inline\n",
    "%config InlineBackend.figure_format = 'retina'\n",
    "%load_ext watermark"
   ]
  },
  {
   "cell_type": "code",
   "execution_count": null,
   "metadata": {},
   "outputs": [],
   "source": [
    "from jax import random, vmap, jit, grad, lax\n",
    "from jax.scipy import stats\n",
    "import jax.numpy as np\n",
    "import matplotlib.pyplot as plt\n",
    "from functools import partial\n",
    "import seaborn as sns\n"
   ]
  },
  {
   "cell_type": "markdown",
   "metadata": {},
   "source": [
    "To generate a transition matrix with this desired property, we can turn to the [GEM distribution][gem]. The GEM distribution is one way to generate a random vector from a Dirichlet distribution (which is the generalization of a Beta distribution).\n",
    "\n",
    "You can think of it as stick-breaking, basically. We take a stick of unit length 1, and break it in two according to a draw from a Beta distribution. We record the length of the left part of the stick, and then break the right stick into two according to a draw from a Beta distribution. We then record the new length of the left side and break the right one again and again, _ad infinitum_ or until we have reached a predefined (but finite) number of breaks. The vector of recorded lengths becomes a \"weighting\" vector. One thing to keep in mind: this weighting vector doesn't necessarily sum to 1, so in order to use the weighting vector in a transition matrix, we do have to normalize it to sum to 1, or we append the remainder of the stick to the end to get it to sum to 1.\n",
    "\n",
    "Enough said, let's dig in and try simulating this process.\n",
    "\n",
    "Firstly, we generate a vector of i.i.d. draws from a Beta distribution with parameters $\\alpha = 1$ and $\\beta = 1$.\n",
    "\n",
    "[gem]: https://towardsdatascience.com/behind-the-models-beta-dirichlet-and-gem-distributions-526b11a24359"
   ]
  },
  {
   "cell_type": "code",
   "execution_count": null,
   "metadata": {},
   "outputs": [],
   "source": [
    "key = random.PRNGKey(45)  # for reproducibility\n",
    "beta_draws = random.beta(key, a=1, b=1, shape=(10,))\n",
    "plt.plot(beta_draws, marker=\"o\")\n",
    "sns.despine()"
   ]
  },
  {
   "cell_type": "markdown",
   "metadata": {},
   "source": [
    "Now, we take this and begin our stick-breaking process. Because it is effectively a for-loop in which each loop iteration uses carryover from the previous loop iteration, I have written it taking advantage of JAX's `lax.scan` function."
   ]
  },
  {
   "cell_type": "code",
   "execution_count": null,
   "metadata": {},
   "outputs": [],
   "source": [
    "def stick_breaking_weights(beta_draws):\n",
    "    \"\"\"Return weights from a stick breaking process.\n",
    "    \n",
    "    :param beta_draws: i.i.d draws from a Beta distribution.\n",
    "        This should be a row vector.\n",
    "    \"\"\"\n",
    "    def weighting(occupied_probability, beta_i):\n",
    "        \"\"\"\n",
    "        :param occupied_probability: The cumulative occupied probability taken up.\n",
    "        :param beta_i: Current value of beta to consider.\n",
    "        \"\"\"\n",
    "        weight = (1 - occupied_probability) * beta_i\n",
    "        return occupied_probability + weight, weight\n",
    "    \n",
    "    occupied_probability, weights = lax.scan(weighting, np.array(0.), beta_draws)\n",
    "    \n",
    "    weights = weights / np.sum(weights)\n",
    "    return occupied_probability, weights"
   ]
  },
  {
   "cell_type": "code",
   "execution_count": null,
   "metadata": {},
   "outputs": [],
   "source": [
    "occupied_prob, weights = stick_breaking_weights(beta_draws)\n",
    "plt.plot(weights, marker=\"o\")\n",
    "plt.ylim(-0.1, 1.1)\n",
    "sns.despine()"
   ]
  },
  {
   "cell_type": "markdown",
   "metadata": {},
   "source": [
    "Really cool! We now have a vector of weights, normalized to a probability distribution.\n",
    "\n",
    "It's worth at this point exploring the effect of varying the $b$ parameter in the Beta distribution:"
   ]
  },
  {
   "cell_type": "code",
   "execution_count": null,
   "metadata": {},
   "outputs": [],
   "source": [
    "fig, axes = plt.subplots(nrows=1, ncols=5, figsize=(20, 4), sharey=True)\n",
    "\n",
    "bvals = np.array([1, 3, 5, 10, 20])\n",
    "beta_draws = vmap(partial(random.beta, key, 1, shape=(10,)))(bvals)\n",
    "occupied_probs, weights = vmap(stick_breaking_weights)(beta_draws)\n",
    "\n",
    "for ax, weight, bval in zip(axes, weights, bvals):\n",
    "    ax.plot(weight, marker=\"o\")\n",
    "    ax.set_title(f\"b = {bval}\")\n",
    "sns.despine()"
   ]
  },
  {
   "cell_type": "markdown",
   "metadata": {},
   "source": [
    "As should be visible, when we increase the `b` value, we get a less concentrated and flatter distribution compared to when we use a smaller `b` value. Thus, `b` acts as a \"concentration\" parameter. Smaller values means probability mass is concentrated on a smaller number of slots, while larger values means probability mass is diffused across a larger number of slots.\n",
    "\n",
    "How does this relate to transition matrices in hidden Markov models? Well, a potentially desirable property is that we wish to express is that most of the states tend to move into a certain smaller number of states, thereby _concentrating_ the number of occupied states into a smaller set. This is equivalent to concentrating the transition matrix to a subset of _columns_. Let's see how we can generate this kind of transition matrix.\n",
    "\n",
    "Firstly, since transition matrices are square, let's start with a 15x15 transition matrix, i.e. one with 15 states. "
   ]
  },
  {
   "cell_type": "code",
   "execution_count": null,
   "metadata": {},
   "outputs": [],
   "source": [
    "N_STATES = 15\n",
    "CONCENTRATION = 2\n",
    "\n",
    "beta_draws = random.beta(key, a=1, b=CONCENTRATION, shape=(N_STATES, N_STATES))"
   ]
  },
  {
   "cell_type": "markdown",
   "metadata": {},
   "source": [
    "To visualize these i.i.d. Beta-distributed draws, let's use a heatmap."
   ]
  },
  {
   "cell_type": "code",
   "execution_count": null,
   "metadata": {},
   "outputs": [],
   "source": [
    "sns.heatmap(beta_draws);"
   ]
  },
  {
   "cell_type": "markdown",
   "metadata": {},
   "source": [
    "Keep in mind, this is not the transition matrix just yet. It is the precursor to one!\n",
    "\n",
    "Next up, on a row-wise basis, we convert each row to a weighting vector, thereby getting back a transition matrix:"
   ]
  },
  {
   "cell_type": "code",
   "execution_count": null,
   "metadata": {},
   "outputs": [],
   "source": [
    "def compute_transition_matrix(beta_draws):\n",
    "    _, transition_matrix = vmap(stick_breaking_weights)(beta_draws)\n",
    "    return _, transition_matrix\n",
    "\n",
    "_, transition_matrix = compute_transition_matrix(beta_draws)"
   ]
  },
  {
   "cell_type": "markdown",
   "metadata": {},
   "source": [
    "And visualizing the transition_matrix..."
   ]
  },
  {
   "cell_type": "code",
   "execution_count": null,
   "metadata": {},
   "outputs": [],
   "source": [
    "sns.heatmap(transition_matrix);"
   ]
  },
  {
   "cell_type": "markdown",
   "metadata": {},
   "source": [
    "Voilà! We have a transition matrix that has most of the probability mass concentrated in just a few states. Let's calculate the equilibrium distribution:"
   ]
  },
  {
   "cell_type": "code",
   "execution_count": null,
   "metadata": {},
   "outputs": [],
   "source": [
    "def equilibrium_distribution(p_transition):\n",
    "    n_states = p_transition.shape[0]\n",
    "    A = np.append(\n",
    "        arr=p_transition.T - np.eye(n_states),\n",
    "        values=np.ones(n_states).reshape(1, -1),\n",
    "        axis=0\n",
    "    )\n",
    "    # Moore-Penrose pseudoinverse = (A^TA)^{-1}A^T\n",
    "    pinv = np.linalg.pinv(A)\n",
    "    # Return last row\n",
    "    return pinv.T[-1]"
   ]
  },
  {
   "cell_type": "code",
   "execution_count": null,
   "metadata": {},
   "outputs": [],
   "source": [
    "eq_distribution = equilibrium_distribution(transition_matrix)\n",
    "plt.plot(eq_distribution, marker=\"o\")\n",
    "sns.despine()"
   ]
  },
  {
   "cell_type": "markdown",
   "metadata": {},
   "source": [
    "As should be visible, we spend the majority of time in just a few states, and not too many more.\n",
    "\n",
    "At this point, it's worth exploring how the \"concentration\" parameter affects the transition matrix, and hence the equilibrium distribution."
   ]
  },
  {
   "cell_type": "code",
   "execution_count": null,
   "metadata": {},
   "outputs": [],
   "source": [
    "CONCENTRATIONS = np.array([1, 3, 5, 10, 20])\n",
    "N_DIMS = 30\n",
    "beta_draws = vmap(partial(random.beta, key, 1, shape=(N_DIMS, N_DIMS)))(CONCENTRATIONS)\n",
    "beta_draws.shape"
   ]
  },
  {
   "cell_type": "code",
   "execution_count": null,
   "metadata": {},
   "outputs": [],
   "source": [
    "_, transition_matrices = vmap(compute_transition_matrix)(beta_draws)\n",
    "eq_distributions = vmap(equilibrium_distribution)(transition_matrices)\n",
    "\n",
    "fig, axes = plt.subplots(nrows=2, ncols=5, figsize=(20, 8))\n",
    "\n",
    "for ax, conc, tmat in zip(axes[0, :], CONCENTRATIONS, transition_matrices):\n",
    "    sns.heatmap(tmat, ax=ax)\n",
    "    ax.set_title(f\"concentration = {conc}\")\n",
    "    \n",
    "for ax, conc, eq_dist in zip(axes[1, :], CONCENTRATIONS, eq_distributions):\n",
    "    ax.plot(eq_dist, marker=\"o\")\n",
    "    ax.set_title(f\"concentration = {conc}\")\n",
    "    ax.set_ylim(-0.1, 1.1)\n",
    "sns.despine()"
   ]
  },
  {
   "cell_type": "markdown",
   "metadata": {},
   "source": [
    "As you can see, when the value of `b` goes up, the more diffuse the transition matrix, and the more evenly spread-out the equilibrium states will be."
   ]
  },
  {
   "cell_type": "markdown",
   "metadata": {},
   "source": [
    "## Let's generate Markov sequences now\n",
    "\n",
    "Now that we know how to generate transition matrices, let's step back and try to see whether the generated Markovian sequences from these transition matrices make sense, i.e. whether they display the desired properties that we seek or not."
   ]
  },
  {
   "cell_type": "code",
   "execution_count": null,
   "metadata": {},
   "outputs": [],
   "source": [
    "from jax import random\n",
    "from jax.scipy.special import logit\n"
   ]
  },
  {
   "cell_type": "markdown",
   "metadata": {},
   "source": [
    "Firstly, let's try writing the function that generates a Markov sequence given a transition matrix."
   ]
  },
  {
   "cell_type": "code",
   "execution_count": null,
   "metadata": {},
   "outputs": [],
   "source": [
    "from typing import List\n",
    "from jax import jit\n",
    "\n",
    "def markov_sequence(key, p_transition: np.array, sequence_length: int) -> List[int]:\n",
    "    \"\"\"\n",
    "    Generate a Markov sequence based on p_init and p_transition.\n",
    "    \n",
    "    Strategy: leverage categorical distribution.\n",
    "    We need to vmap over split PRNGKeys, which will give us the desired number of draws.\n",
    "    \"\"\"\n",
    "    p_eq = equilibrium_distribution(p_transition)\n",
    "    logit_p_eq = logit(p_eq)\n",
    "    initial_state = random.categorical(key, logits=logit_p_eq, shape=(1,))\n",
    "    \n",
    "    def draw_state(prev_state, key):\n",
    "        logits = logit(p_transition[prev_state])\n",
    "        state = random.categorical(key, logits=logits, shape=(1,))\n",
    "        return state, state\n",
    "\n",
    "    keys = random.split(key, sequence_length)\n",
    "    final_state, states = lax.scan(draw_state, initial_state, keys)\n",
    "    return final_state, np.squeeze(states)\n",
    "    \n",
    "markov_sequence = jit(markov_sequence, static_argnums=(2,))\n",
    "\n",
    "final, sequence = markov_sequence(key, transition_matrices[0], 100)\n",
    "final, sequence"
   ]
  },
  {
   "cell_type": "markdown",
   "metadata": {},
   "source": [
    "Now, I think we can generate a bunch of Markov chain sequences using `vmap`."
   ]
  },
  {
   "cell_type": "code",
   "execution_count": null,
   "metadata": {},
   "outputs": [],
   "source": [
    "def markov_seq_vmappable(key, transition_matrix):\n",
    "    sequence_length = 500\n",
    "    return markov_sequence(key, transition_matrix, sequence_length)\n",
    "\n",
    "_, sequences = vmap(markov_seq_vmappable)(random.split(key, 5), transition_matrices)"
   ]
  },
  {
   "cell_type": "markdown",
   "metadata": {},
   "source": [
    "Let's plot them out!"
   ]
  },
  {
   "cell_type": "code",
   "execution_count": null,
   "metadata": {},
   "outputs": [],
   "source": [
    "import seaborn as sns\n",
    "\n",
    "fig, axes = plt.subplots(figsize=(16, 20), nrows=5, ncols=1)\n",
    "\n",
    "for ax, seq in zip(axes, sequences):\n",
    "    ax.plot(range(len(seq)), seq, marker=\"o\")\n",
    "sns.despine()"
   ]
  },
  {
   "cell_type": "markdown",
   "metadata": {},
   "source": [
    "As should be visible, as we increase the concentration parameter (really, I think this should be renamed as a \"diffusion\" parameter),\n",
    "the number of states that we would typically occupy increases. At smaller values of the concentration parameter, the number of states we would typically occupy decreases."
   ]
  },
  {
   "cell_type": "markdown",
   "metadata": {},
   "source": [
    "## Generating Markov sequences concentrated on a few stable states\n",
    "\n",
    "We've thus far generated transition matrices that are biased towards a few states, but they do tend to be jumpy, as the above scatterplots show. In other words, we have not yet generated matrices that allow for _stability inside a state_. Stability inside a state is generated from strong diagonals. We can engineer this in the generation of the matrix by leveraging (once again) the Beta distribution. Specifically, the generative story here is that each row of the transition matrix is generated by stick-breaking, but the diagonals are replaced by a Beta draw that is biased towards high probabilities. Let's see this in action for one transition matrix."
   ]
  },
  {
   "cell_type": "code",
   "execution_count": null,
   "metadata": {},
   "outputs": [],
   "source": [
    "def diagonal_draws(key, bias_factor, shape):\n",
    "    return random.beta(key, a=bias_factor, b=1, shape=shape)"
   ]
  },
  {
   "cell_type": "code",
   "execution_count": null,
   "metadata": {},
   "outputs": [],
   "source": [
    "dd = diagonal_draws(key, bias_factor=50, shape=(N_DIMS,))\n",
    "dom_diag_transition_matrix = transition_matrices[0] + np.diagflat(dd)\n",
    "\n",
    "def normalize_prob_vect(v):\n",
    "    return v / np.sum(v)\n",
    "\n",
    "\n",
    "def normalize_transition_matrix(transition_matrix):\n",
    "    return vmap(normalize_prob_vect)(transition_matrix)\n",
    "\n",
    "dom_diag_transition_matrix = normalize_transition_matrix(dom_diag_transition_matrix)\n",
    "sns.heatmap(dom_diag_transition_matrix);"
   ]
  },
  {
   "cell_type": "markdown",
   "metadata": {},
   "source": [
    "Now given _this_ transition matrix, let's generate new sequences:"
   ]
  },
  {
   "cell_type": "code",
   "execution_count": null,
   "metadata": {},
   "outputs": [],
   "source": [
    "_, seq = markov_sequence(key, dom_diag_transition_matrix, 500)\n",
    "plt.plot(seq, marker=\"o\")\n",
    "sns.despine()"
   ]
  },
  {
   "cell_type": "markdown",
   "metadata": {},
   "source": [
    "As is visible from the plot above, we get sequences that tend to stay inside a state, and when they do venture out to unfavoured states (e.g. state 5), they quickly return back to a favoured state.\n",
    "\n",
    "Now, let's see what kind of sequences we get when we use the same dominant diagonal with different concentration parameters.\n",
    "\n",
    "Firstly, we generate a bunch of dominant diagonal matrices:"
   ]
  },
  {
   "cell_type": "code",
   "execution_count": null,
   "metadata": {},
   "outputs": [],
   "source": [
    "keys = random.split(key, 5)\n",
    "diagonals = vmap(partial(diagonal_draws, bias_factor=50, shape=(N_DIMS,)))(keys)\n",
    "\n",
    "def create_dominant_diagonal(p_transition, diagonal):\n",
    "    p_transition = p_transition + np.diagflat(diagonal)\n",
    "    return normalize_transition_matrix(p_transition)\n",
    "\n",
    "dom_diag_transition_matrices = vmap(create_dominant_diagonal)(transition_matrices, diagonals)\n",
    "\n",
    "fig, axes = plt.subplots(nrows=1, ncols=5, figsize=(20, 3))\n",
    "\n",
    "for ax, mat in zip(axes, dom_diag_transition_matrices):\n",
    "    sns.heatmap(mat, ax=ax)"
   ]
  },
  {
   "cell_type": "markdown",
   "metadata": {},
   "source": [
    "Now, we generate a bunch of sequences."
   ]
  },
  {
   "cell_type": "code",
   "execution_count": null,
   "metadata": {},
   "outputs": [],
   "source": [
    "_, sequences = vmap(markov_seq_vmappable)(random.split(key, 5), dom_diag_transition_matrices)\n",
    "\n",
    "fig, axes = plt.subplots(figsize=(16, 20), nrows=5, ncols=1)\n",
    "\n",
    "for ax, seq, conc in zip(axes, sequences, CONCENTRATIONS):\n",
    "    ax.plot(range(len(seq)), seq, marker=\"o\")\n",
    "    ax.set_title(f\"concentration = {conc}\")\n",
    "sns.despine()"
   ]
  },
  {
   "cell_type": "markdown",
   "metadata": {},
   "source": [
    "As should be visible from here, we now generate sequences that have a much higher propensity to stay within their own state, rather than jump around. Additionally, when there are more states \"available\" (i.e. concentration runs higher), we also see them stay within their own state rather than jump back down to the favoured states."
   ]
  },
  {
   "cell_type": "markdown",
   "metadata": {},
   "source": [
    "## Inference of the right \"concentration\" of states\n",
    "\n",
    "Given the transition matrix, can we infer the concentration parameter that best describes it? This is what we're going to try out here.\n",
    "\n",
    "We start with a vanilla transition matrix generated from a `concentration = 1` setting, with no dominant diagonals. This is the easier setting to begin with:"
   ]
  },
  {
   "cell_type": "code",
   "execution_count": null,
   "metadata": {},
   "outputs": [],
   "source": [
    "sns.heatmap(transition_matrices[0]);"
   ]
  },
  {
   "cell_type": "markdown",
   "metadata": {},
   "source": [
    "Each row of the transition matrix is generated by running a stick breaking process forward from Beta distributed draws. We can run the process backwards to get back our Beta-distributed matrix. Because there's division involved, I have opted to operate in logarithmic space instead, to avoid over/under-flow issues."
   ]
  },
  {
   "cell_type": "code",
   "execution_count": null,
   "metadata": {},
   "outputs": [],
   "source": [
    "from jax import lax\n",
    "def beta_draw_from_weights(weights):\n",
    "    def beta_from_w(accounted_probability, weights_i):\n",
    "        \"\"\"\n",
    "        :param accounted_probability: The cumulative probability acounted for.\n",
    "        :param weights_i: Current value of weights to consider.\n",
    "        \"\"\"\n",
    "        denominator = 1 - accounted_probability\n",
    "        log_denominator = np.log(denominator)\n",
    "        \n",
    "        log_beta_i = np.log(weights_i) - log_denominator\n",
    "\n",
    "        newly_accounted_probability = accounted_probability + weights_i\n",
    "        \n",
    "        return newly_accounted_probability, np.exp(log_beta_i)\n",
    "    final, betas = lax.scan(beta_from_w, np.array(0.), weights)\n",
    "    return final, betas"
   ]
  },
  {
   "cell_type": "markdown",
   "metadata": {},
   "source": [
    "And now, to sanity-check that it works:"
   ]
  },
  {
   "cell_type": "code",
   "execution_count": null,
   "metadata": {},
   "outputs": [],
   "source": [
    "beta_draw = random.beta(key, a=1, b=3, shape=(15,))\n",
    "_, weights = stick_breaking_weights(beta_draw)\n",
    "_, beta_draw_hat = beta_draw_from_weights(weights)\n",
    "plt.plot(beta_draw, label=\"original\")\n",
    "plt.plot(beta_draw_hat, label=\"recovered\")\n",
    "plt.legend()\n",
    "sns.despine()"
   ]
  },
  {
   "cell_type": "markdown",
   "metadata": {},
   "source": [
    "Up till the last few values, we are basically able to recover the beta distributed draw that generated the matrix. The fundamental problem we're facing here is that when we are faced with a probability vector, we're still missing the \"last stick\" which would give us an accurate estimate of the originals. As such, only the first few are really accurate, and the accuracy of beta draw recovery goes down as we go across the vector.\n",
    "\n",
    "Let's now apply the function to every row in the transition matrix."
   ]
  },
  {
   "cell_type": "code",
   "execution_count": null,
   "metadata": {},
   "outputs": [],
   "source": [
    "def recover_beta(transition_matrix):\n",
    "    return vmap(beta_draw_from_weights)(transition_matrix)"
   ]
  },
  {
   "cell_type": "code",
   "execution_count": null,
   "metadata": {},
   "outputs": [],
   "source": [
    "_, recovered_betas = vmap(recover_beta)(transition_matrices)\n",
    "\n",
    "fig, axes = plt.subplots(nrows=1, ncols=2, figsize=(10, 4))\n",
    "\n",
    "idx = 4\n",
    "sns.heatmap(recovered_betas[idx], ax=axes[0])\n",
    "sns.heatmap(beta_draws[idx], ax=axes[1])"
   ]
  },
  {
   "cell_type": "markdown",
   "metadata": {},
   "source": [
    "Matches what we saw above - we're doing an almost-OK job here.\n",
    "\n",
    "Now, we can evaluate the logpdf of the matrix.\n",
    "Because each entry in the recovered betas matrix is an i.i.d. draw from the Beta distribution,\n",
    "and because row-wise the first 3-5 elements are accurately estimatable backwards from the weights,\n",
    "we will estimate the concentration parameter using only the first three columns of betas from the matrix.\n",
    "\n",
    "Test-driving the syntax below..."
   ]
  },
  {
   "cell_type": "code",
   "execution_count": null,
   "metadata": {},
   "outputs": [],
   "source": [
    "np.sum(stats.beta.logpdf(recovered_betas[4, :, :3], a=1, b=9))"
   ]
  },
  {
   "cell_type": "markdown",
   "metadata": {},
   "source": [
    "Looks good! Let's now define a function for the logpdf."
   ]
  },
  {
   "cell_type": "code",
   "execution_count": null,
   "metadata": {},
   "outputs": [],
   "source": [
    "def transition_matrix_logpdf(transition_matrix, concentration, num_cols=2):\n",
    "    _, beta_recovered = recover_beta(transition_matrix)\n",
    "    logp = stats.beta.logpdf(beta_recovered[:, :num_cols], a=1, b=concentration)\n",
    "    return np.sum(logp)\n",
    "\n",
    "transition_matrix_logpdf(transition_matrices[1], 5)"
   ]
  },
  {
   "cell_type": "markdown",
   "metadata": {},
   "source": [
    "Just to see if this is a gradient optimizable problem, let's plot a range of concentration values, and see what happens."
   ]
  },
  {
   "cell_type": "code",
   "execution_count": null,
   "metadata": {},
   "outputs": [],
   "source": [
    "log_conc_range = np.linspace(-3, 3, 10000)\n",
    "conc_range = np.exp(log_conc_range)\n",
    "\n",
    "def loglike_range(transition_matrix, log_conc_range):\n",
    "    conc_range = np.exp(log_conc_range)\n",
    "    ll = vmap(partial(transition_matrix_logpdf, transition_matrix))(conc_range)\n",
    "    return ll\n",
    "\n",
    "ll = loglike_range(transition_matrices[0], log_conc_range)\n",
    "\n",
    "lls = vmap(partial(loglike_range, log_conc_range=log_conc_range))(transition_matrices)\n",
    "\n",
    "fig, axes = plt.subplots(nrows=1, ncols=len(CONCENTRATIONS), figsize=(20, 4))\n",
    "\n",
    "for ll, conc, ax in zip(lls, CONCENTRATIONS, axes):\n",
    "    ax.plot(conc_range, ll)\n",
    "    ax.set_title(f\"concentration = {conc}\")\n",
    "sns.despine()"
   ]
  },
  {
   "cell_type": "markdown",
   "metadata": {},
   "source": [
    "Not bad! Visually, it appears that we do pretty good in recovering the maximum likelihood value for most of the entries, but for concentration = 20, it's more difficult to do so.\n",
    "\n",
    "Let's confirm by extracting the concentration at which we have maximum log-likelihood."
   ]
  },
  {
   "cell_type": "code",
   "execution_count": null,
   "metadata": {},
   "outputs": [],
   "source": [
    "maxes = vmap(np.argmax)(lls)\n",
    "mle_estimates = np.take(conc_range, maxes)\n",
    "mle_estimates"
   ]
  },
  {
   "cell_type": "markdown",
   "metadata": {},
   "source": [
    "Great! Doing this brute-force is all nice and good, but one of the points of JAX is that we get to do gradient descent easily. So now, let's try to perform gradient-based optimization :).\n",
    "\n",
    "We start by first defining a loss as a function of the log of the concentration. (We use the log so that when we do gradient optimization, we can be in an unbounded space.) We also define the gradient of the loss function."
   ]
  },
  {
   "cell_type": "code",
   "execution_count": null,
   "metadata": {},
   "outputs": [],
   "source": [
    "def loglike_loss(log_concentration, transition_matrix):\n",
    "    concentration = np.exp(log_concentration)\n",
    "    ll = transition_matrix_logpdf(transition_matrix, concentration)\n",
    "    return -ll\n",
    "\n",
    "loglike_loss = jit(loglike_loss)\n",
    "dloglike_loss = grad(loglike_loss)"
   ]
  },
  {
   "cell_type": "markdown",
   "metadata": {},
   "source": [
    "Next up, we do the loop. Instead of writing an explicit for-loop, we are going to some JAX trickery here:\n",
    "\n",
    "1. We write the loop taking advantage of `lax.scan`, which allows us to leverage the previous state to get back parameters to optimize.\n",
    "1. We also vmap our training loop over all 5 matrices, starting with the same log concentration starting point. This allows us to essentially train five models at one shot. (I could have `pmap`-ed it, but I really only have one CPU and one GPU on my computer.)\n",
    "1. Since the result is a vmapped, we have a collection of final states and historical states (which we can post-process post-hoc). Hence, we can vmap `get_params` over final states to get back the vector of final states (from a constant initial state)."
   ]
  },
  {
   "cell_type": "code",
   "execution_count": null,
   "metadata": {},
   "outputs": [],
   "source": [
    "from jax.experimental.optimizers import adam\n",
    "\n",
    "init, update, get_params = adam(0.05)\n",
    "log_conc_start = random.normal(key)\n",
    "\n",
    "def step(prev_state, i, data, dloss):\n",
    "    \"\"\"One step in the training loop.\"\"\"\n",
    "    params = get_params(prev_state)\n",
    "    g = dloss(params, data)\n",
    "    state = update(i, g, prev_state)\n",
    "    return state, state\n",
    "\n",
    "def train(transition_matrix, dloss, params, n_steps=200):\n",
    "    \"\"\"The training loop for one transition matrix.\"\"\"\n",
    "    stepfunc = partial(step, data=transition_matrix, dloss=dloss)\n",
    "    stepfunc = jit(stepfunc)\n",
    "\n",
    "    state = init(params)\n",
    "    final_state, states = lax.scan(stepfunc, state, np.arange(n_steps))\n",
    "    return final_state, states\n",
    "\n",
    "trainfunc = partial(train, params=log_conc_start, dloss=dloglike_loss)\n",
    "trainfunc = jit(trainfunc)\n",
    "# Train across all transition matrices!\n",
    "final_states, states_history = vmap(trainfunc)(transition_matrices)\n",
    "np.exp(vmap(get_params)(final_states))"
   ]
  },
  {
   "cell_type": "markdown",
   "metadata": {},
   "source": [
    "We can also get the history by `vmap`-ing `get_params` over `all_states`."
   ]
  },
  {
   "cell_type": "code",
   "execution_count": null,
   "metadata": {},
   "outputs": [],
   "source": [
    "log_concentration_history = vmap(get_params)(states_history)\n",
    "\n",
    "for concentration, history in zip(CONCENTRATIONS, log_concentration_history):\n",
    "    plt.plot(np.exp(history), label=concentration)\n",
    "plt.xlabel(\"Iteration\")\n",
    "plt.ylabel(\"Concentration Value\")\n",
    "plt.legend()\n",
    "sns.despine()"
   ]
  },
  {
   "cell_type": "markdown",
   "metadata": {},
   "source": [
    "Now, if you're wondering how I knew 200 steps would be sufficient for convergence _a priori_, I didn't :). I had originally tried 1000 steps before staring at the concentration curves, at which point I then knew 200 was sufficient. So... no magic there."
   ]
  },
  {
   "cell_type": "markdown",
   "metadata": {},
   "source": [
    "## Summary\n",
    "\n",
    "This was a bit of a whirlwind tour of a notebook, in that there were many concepts and ideas tied together into one \"project\". \n",
    "\n",
    "With respect to HMMs, it's super important to have a proper mental model of each of its components. In the case of _expressing_ the idea that we have a restricted number of states, we may _engineer_ this into the model by taking advantage of column-wise heaviness in a restricted subset of states. This is mathematically most naturally incorporated by composint together row-wise Dirichlet-distributed probability arrays. We can also mathematically _engineer_ consistency in states by taking advantage of high Beta-distributed values. Compose the two together, and we get a transition matrix that favours entry into a small number of states with stability in there.\n",
    "\n",
    "Beyond that lesson, we saw the power of composable programs using JAX. `vmap`, `jit`, `lax.scan`, and more from the JAX toolkit gives us the ability to write performant programs that sort of \"just make sense\", once you know what their idioms are. Specifically:\n",
    "\n",
    "- `vmap` is a vanilla for-loop, processing an elementary function over an axis of an array.\n",
    "- `lax.scan` is a carry-over for-loop, processing the result of a previous iteration, with accumulation of history as well.\n",
    "- `jit` gives you just-in-time compilation of a function.\n",
    "- `grad` gives you gradients of any arbitrary function written in a JAX-compatible, pure functional fashion.\n",
    "\n",
    "In particular, getting used to the `lax.scan` idioms has been a literal door-opener. We can now write really performant loops that use results from previous iterations, such as a gradient descent training loop or an MCMC sampler. Using `lax.scan`, we wrote:\n",
    "\n",
    "- A Markov chain state generator\n",
    "- A generator of Dirichlet-distributed weights from i.i.d. Beta distribution draws\n",
    "- A reverse generator/estimator of Beta distribution draws from Dirichlet-distributed weights (with some inaccuracies of course, due to a lack of information).\n",
    "- A fully-compiled gradient descent training loop that ran extremely fast.\n",
    "\n",
    "And using `vmap`, we were able to do all sorts of vanilla loops, but the one I want to highlight is our ability to `vmap` the compiled training loop across multiple transition matrices. The fact that this _actually_ works never has left me in awe. Props to the JAX team here! Opens the door to `vmap`-ing training loops across random starting points (i.e. a split PRNGKey, much like what we did in the HMM state generator).\n",
    "\n",
    "The trade-off is that we don't get nice progress bars, of course, which require that we break out of the compiled loop to show the current state. But the compilation speedups provided the opportunity to build our compiled tensor program end-to-end. We could verify first that things ran correctly on a moderately-sized number of iterations, before finally estimating how long we would need to go until convergence and letting the program run on its own. I'm sure this little change isn't too hard to adapt to, but will give you access to a whole new world of differential tensor programming that is just _cool_!"
   ]
  },
  {
   "cell_type": "code",
   "execution_count": null,
   "metadata": {},
   "outputs": [],
   "source": [
    "%watermark"
   ]
  },
  {
   "cell_type": "code",
   "execution_count": null,
   "metadata": {},
   "outputs": [],
   "source": [
    "%watermark --iversions"
   ]
  }
 ],
 "metadata": {
  "interpreter": {
   "hash": "b7410733da85e48a7d98359cb1662001d6b4cc6f90e43427714d358e9ea2f663"
  },
  "kernelspec": {
   "display_name": "essays-on-data-science",
   "language": "python",
   "name": "python3"
  },
  "language_info": {
   "codemirror_mode": {
    "name": "ipython",
    "version": 3
   },
   "file_extension": ".py",
   "mimetype": "text/x-python",
   "name": "python",
   "nbconvert_exporter": "python",
   "pygments_lexer": "ipython3",
   "version": "3.9.9"
  }
 },
 "nbformat": 4,
 "nbformat_minor": 4
}
