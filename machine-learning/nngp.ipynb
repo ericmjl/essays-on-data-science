{
 "cells": [
  {
   "cell_type": "markdown",
   "metadata": {},
   "source": [
    "# How useful are infinitely wide neural networks?\n",
    "\n",
    "In this notebook,\n",
    "I would like to explore the use of the Neural Tangents package\n",
    "for doing cheminformatics tasks.\n",
    "\n",
    "For the non-cheminformatician reading this,\n",
    "cheminformatics tasks should be treated as a surrogate\n",
    "for complex modelling problems that do not have\n",
    "an obvious input-output relationship structure\n",
    "that can be easily written in an equation,\n",
    "hence necessitating the use of a neural network.\n",
    "\n",
    "The goal here is not to see\n",
    "how we can achieve state-of-the-art (SOTA) performance,\n",
    "but instead empirically explore how infinitely wide neural networks\n",
    "could possibly be leveraged to improve a data scientist's workflow \n",
    "and solve complex problems.\n",
    "As such, you won't see us try to tweak hyperparameters\n",
    "to squeeze out maximum performance.\n",
    "Rather, you'll see what we hope to be is a systematic exploration\n",
    "of how neural network architectures\n",
    "affect their infinite-width limit performance."
   ]
  },
  {
   "cell_type": "markdown",
   "metadata": {},
   "source": [
    "## Motivation for this notebook\n",
    "\n",
    "Given the popularity of neural networks \n",
    "and their productive use in applications,\n",
    "it sort of begs the question, \n",
    "why would one want to be interested in infinitely-wide neural networks\n",
    "as an applied topic?\n",
    "\n"
   ]
  },
  {
   "cell_type": "markdown",
   "metadata": {},
   "source": [
    "### Practical implications for predictive modelling\n",
    "\n",
    "Putting aside the really fascinating theoretical connections\n",
    "between Gaussian Processes and infinitely wide neural networks,\n",
    "I saw some potentially attractive practical implications\n",
    "of infinitely wide neural networks.\n",
    "In particular, having read the original paper,\n",
    "and studying the code,\n",
    "I had this hunch that infinitely wide neural networks\n",
    "could save us deep learners from a wide swathe\n",
    "of Sisyphean hyperparameter tuning tasks,\n",
    "such as tuning learning rate, number of hidden nodes,\n",
    "number of epochs, and more.\n",
    "\n"
   ]
  },
  {
   "cell_type": "markdown",
   "metadata": {},
   "source": [
    "### Curiousity surrounding kernels\n",
    "\n",
    "Having read the paper, I had this hunch that infinitely wide neural networks\n",
    "should give us different Gaussian Process kernels\n",
    "depending on the neural network architecture.\n",
    "As we know from GP literature,\n",
    "the kernel, \n",
    "which is a function of the distance between data points in input space,\n",
    "dictates the behaviour of a GP.\n",
    "Kernels are compositionally additive,\n",
    "and can thus be used to simultaneously model\n",
    "short-range and long-range behaviour,\n",
    "at least in 1-D examples that I have seen."
   ]
  },
  {
   "cell_type": "markdown",
   "metadata": {},
   "source": [
    "## Try MoleculeNet's ESOL\n",
    "\n",
    "The dataset that we will focus on here is MoleculeNet's solubility dataset."
   ]
  },
  {
   "cell_type": "code",
   "execution_count": null,
   "metadata": {
    "tags": []
   },
   "outputs": [],
   "source": [
    "%load_ext autoreload\n",
    "%autoreload 2\n",
    "%load_ext watermark"
   ]
  },
  {
   "cell_type": "code",
   "execution_count": null,
   "metadata": {
    "tags": []
   },
   "outputs": [],
   "source": [
    "import pandas as pd \n",
    "import janitor\n",
    "import janitor.chemistry\n",
    "\n",
    "from jax.config import config\n",
    "import seaborn as sns\n",
    "\n",
    "sns.set_context(\"talk\")\n",
    "\n",
    "config.update(\"jax_enable_x64\", True)"
   ]
  },
  {
   "cell_type": "markdown",
   "metadata": {},
   "source": [
    "The dataset is already well-cleaned;\n",
    "the column that is the input to our models will be the \"smiles\" column\n",
    "(converted into a 2048-bit Morgan-2 fingerprint),\n",
    "while the target column is\n",
    "the \"measured log solubility in mols per litre\" column."
   ]
  },
  {
   "cell_type": "code",
   "execution_count": null,
   "metadata": {
    "tags": []
   },
   "outputs": [],
   "source": [
    "# Reset index to guarantee contiguous indexing.\n",
    "# Will be useful later.\n",
    "data = pd.read_csv(\"https://deepchemdata.s3-us-west-1.amazonaws.com/datasets/delaney-processed.csv\").smiles2mol(\"smiles\", \"mol\").reset_index(drop=True)\n",
    "data.head()"
   ]
  },
  {
   "cell_type": "code",
   "execution_count": null,
   "metadata": {
    "tags": []
   },
   "outputs": [],
   "source": [
    "import jax.numpy as np\n",
    "morgans = data.morgan_fingerprint(\"mol\", radius=3, nbits=2048)\n",
    "morgans = np.array(morgans)\n",
    "morgans"
   ]
  },
  {
   "cell_type": "code",
   "execution_count": null,
   "metadata": {
    "tags": []
   },
   "outputs": [],
   "source": [
    "task = \"SOLUBILITY\"\n",
    "target_col_mapping = {\n",
    "    \"LIPO\": \"exp\",\n",
    "    \"SOLUBILITY\": \"measured log solubility in mols per litre\",\n",
    "}\n",
    "targets = data[target_col_mapping[task]]\n",
    "targets = np.array(targets).reshape(-1, 1)\n",
    "targets.shape"
   ]
  },
  {
   "cell_type": "markdown",
   "metadata": {},
   "source": [
    "## Writing infinitely wide neural networks\n",
    "\n",
    "Infinitely wide neural networks are written\n",
    "using the neural tangents library developed by Google Research.\n",
    "It is based on JAX, and provides a neural network library\n",
    "that lets us analytically obtain the infinite-width kernel \n",
    "corresponding to the particular neural network architecture specified.\n",
    "This is known as a _Neural Network Gaussian Process_ (NNGP) kernel.\n",
    "\n",
    "I will primarily be concerned with the NNGP kernel\n",
    "rather than the Neural Tangent Kernel (NTK).\n",
    "Mostly for simplicity's sake;\n",
    "being the lazy person I am, \n",
    "I'll try avoiding adding an orthogonal and combinatorial axis of complexity\n",
    "wherever possible.\n",
    "\n",
    "Here is an example infinitely-wide neural network\n",
    "with two hidden layers,\n",
    "each with 4096 hidden nodes."
   ]
  },
  {
   "cell_type": "code",
   "execution_count": null,
   "metadata": {
    "tags": []
   },
   "outputs": [],
   "source": [
    "from jax import jit \n",
    "import neural_tangents as nt\n",
    "from neural_tangents import stax\n",
    "\n",
    "N_HIDDEN = 4096\n",
    "\n",
    "init_fn, apply_fn, kernel_fn = stax.serial(\n",
    "    stax.Dense(N_HIDDEN, W_std=1.5, b_std=0.05), stax.Erf(),\n",
    "    stax.Dense(N_HIDDEN, W_std=1.5, b_std=0.05), stax.Erf(),\n",
    "    stax.Dense(1),\n",
    ")\n",
    "\n",
    "apply_fn = jit(apply_fn)\n",
    "kernel_fn = jit(kernel_fn, static_argnums=(2,))"
   ]
  },
  {
   "cell_type": "markdown",
   "metadata": {},
   "source": [
    "### Initial model params\n",
    "\n",
    "For benchmarking purposes, we want to obtain the parameters at initialization\n",
    "in order to compare how the NNGP kernel conditioned on observed data\n",
    "compares against the initialized, unfitted model."
   ]
  },
  {
   "cell_type": "code",
   "execution_count": null,
   "metadata": {
    "tags": []
   },
   "outputs": [],
   "source": [
    "from jax import random as rnd\n",
    "key = rnd.PRNGKey(71)\n",
    "input_shape, params = init_fn(key, input_shape=(2048,))\n"
   ]
  },
  {
   "cell_type": "markdown",
   "metadata": {},
   "source": [
    "## Preprocessing of data\n",
    "\n",
    "We are going to use a fixed split, again, for simplicity purposes.\n",
    "To take advantage of JAX's deterministic random number generation capabilities,\n",
    "I have written my own train/test split function.\n",
    "\n",
    "We will bring all of our inputs into a standardized Gaussian space,\n",
    "mostly to ensure that our inputs \n",
    "are nicely scaled to roughly the same magnitudes.\n",
    "(Something something good numerical behaviour.)"
   ]
  },
  {
   "cell_type": "code",
   "execution_count": null,
   "metadata": {
    "tags": []
   },
   "outputs": [],
   "source": [
    "from sklearn.preprocessing import StandardScaler\n",
    "\n",
    "\n",
    "def train_test_split(key, x, y, train_fraction=0.2):\n",
    "    indices = rnd.shuffle(key, np.arange(len(x)))\n",
    "    n_train = int(np.floor(len(x) * train_fraction))\n",
    "    return indices, n_train\n",
    "\n",
    "\n",
    "train_fraction = 0.8\n",
    "indices, n_train = train_test_split(key, morgans, targets, train_fraction)\n",
    "x_train = morgans[indices][:n_train]\n",
    "y_train = targets[indices][:n_train]\n",
    "train_samples = data.loc[indices][:n_train]\n",
    "\n",
    "x_test = morgans[indices][n_train:]\n",
    "y_test = targets[indices][n_train:]\n",
    "test_samples = data.loc[indices][n_train:]\n",
    "\n",
    "ss = StandardScaler()\n",
    "x_train = ss.fit_transform(x_train)\n",
    "x_test = ss.transform(x_test)"
   ]
  },
  {
   "cell_type": "markdown",
   "metadata": {},
   "source": [
    "### Obtaining the NNGP and NTK kernels\n",
    "\n",
    "Following the notebook examples released by the neural tangents team,\n",
    "we now get the NNGP/NTK mean and covariance.\n",
    "\n",
    "But wait, didn't I say I wasn't going to care about NTK kernels?\n",
    "Yeah, I guess I waffled a bit here.\n",
    "I was copying and pasting code at this point."
   ]
  },
  {
   "cell_type": "code",
   "execution_count": null,
   "metadata": {
    "tags": []
   },
   "outputs": [],
   "source": [
    "# We generate the prediction function\n",
    "# which is conditioned on the training data.\n",
    "predict_fn = nt.predict.gradient_descent_mse_ensemble(\n",
    "    kernel_fn,\n",
    "    x_train,\n",
    "    y_train,\n",
    "    diag_reg=1e-4,\n",
    "    learning_rate=0.1\n",
    ")\n",
    "\n",
    "nngp_mean, nngp_covariance = predict_fn(\n",
    "    x_test=x_test, \n",
    "    get='nngp', \n",
    "    compute_cov=True\n",
    ")\n",
    "\n",
    "nngp_std = np.sqrt(np.diag(nngp_covariance))"
   ]
  },
  {
   "cell_type": "code",
   "execution_count": null,
   "metadata": {
    "tags": []
   },
   "outputs": [],
   "source": [
    "ntk_mean, ntk_covariance = predict_fn(\n",
    "    x_test=x_test, \n",
    "    get='ntk', \n",
    "    compute_cov=True\n",
    ")\n",
    "\n",
    "ntk_std = np.sqrt(np.diag(ntk_covariance))"
   ]
  },
  {
   "cell_type": "markdown",
   "metadata": {},
   "source": [
    "## Compare against standard models\n",
    "\n",
    "You can't have a benchmarking exercise \n",
    "without having some models to compare against. \n",
    "We'll compare the NNGP/NTK means\n",
    "against predictions from a fitted Random Forest Regressor\n",
    "and a Gaussian Process Regressor,\n",
    "taken from our favourite standard machine learning library scikit-learn."
   ]
  },
  {
   "cell_type": "code",
   "execution_count": null,
   "metadata": {
    "tags": []
   },
   "outputs": [],
   "source": [
    "from sklearn.ensemble import RandomForestRegressor\n",
    "\n",
    "rfr = RandomForestRegressor(n_estimators=200, n_jobs=-1)\n",
    "rfr.fit(x_train, y_train)"
   ]
  },
  {
   "cell_type": "code",
   "execution_count": null,
   "metadata": {
    "tags": []
   },
   "outputs": [],
   "source": [
    "from sklearn.gaussian_process import GaussianProcessRegressor\n",
    "\n",
    "gpr = GaussianProcessRegressor()\n",
    "gpr.fit(x_train, y_train)"
   ]
  },
  {
   "cell_type": "markdown",
   "metadata": {},
   "source": [
    "## Drumroll please...\n",
    "\n",
    "Now for our first benchmarking exericse: how do NNGPs and NTKs perform against\n",
    "standard models, and against the initialized neural network itself?\n",
    "\n",
    "We'll be using the explained variance score to measure performance.\n",
    "Why not others? \n",
    "Well, again, I'm a bit lazy, but there's another actually good reason here.\n",
    "Firstly, explained variance is a measure of \"goodness of fit\" \n",
    "that is scale-free.\n",
    "It is defined as:\n",
    "\n",
    "$$1 - \\frac{var(residuals)}{var(target)}$$\n",
    "\n",
    "I wrote a [blog post][ve] before on why I think the variance explained metric\n",
    "is a pretty neat one, even if it's not the most widely understood.\n",
    "The tl;dr of why is that it's a scale-free metric\n",
    "that is easily interpretable.\n",
    "\n",
    "[ve]: https://ericmjl.github.io/blog/2019/3/24/variance-explained/"
   ]
  },
  {
   "cell_type": "code",
   "execution_count": null,
   "metadata": {
    "tags": []
   },
   "outputs": [],
   "source": [
    "import matplotlib.pyplot as plt\n",
    "import seaborn as sns \n",
    "\n",
    "from sklearn.metrics import r2_score as r2 , explained_variance_score as evs\n",
    "\n",
    "FIG_ALPHA = 0.1\n",
    "SCOREFUNC = evs\n",
    "\n",
    "fig, axes = plt.subplots(nrows=1, ncols=5, figsize=(20, 4), sharex=True, sharey=True)\n",
    "axes = axes.flatten()\n",
    "y_preds = apply_fn(params, x_test)\n",
    "axes[0].scatter(y_test, y_preds, label=\"untrained\", alpha=FIG_ALPHA)\n",
    "score = SCOREFUNC(y_preds.squeeze(), y_test.squeeze())\n",
    "axes[0].set_title(f\"Untrained: {score:.2f}\")\n",
    "axes[0].set_xlabel(\"Actual\")\n",
    "axes[0].set_ylabel(\"Predicted\")\n",
    "\n",
    "axes[1].errorbar(y_test, ntk_mean, yerr=ntk_std * 3, marker=\"o\", ls=\"\", alpha=FIG_ALPHA, label=\"ntk\")\n",
    "score = SCOREFUNC(ntk_mean.squeeze(), y_test.squeeze())\n",
    "axes[1].set_title(f\"NTK: {score:.2f}\")\n",
    "axes[1].set_xlabel(\"Actual\")\n",
    "\n",
    "\n",
    "axes[2].errorbar(y_test, nngp_mean, yerr=nngp_std * 3, marker=\"o\", ls=\"\", alpha=FIG_ALPHA, label=\"nngp\")\n",
    "score = SCOREFUNC(nngp_mean.squeeze(), y_test.squeeze())\n",
    "axes[2].set_title(f\"NNGP: {score:.2f}\")\n",
    "axes[2].set_xlabel(\"Actual\")\n",
    "\n",
    "y_preds = rfr.predict(x_test)\n",
    "axes[3].scatter(y_test, y_preds, alpha=FIG_ALPHA, label=\"random forest\")\n",
    "score = SCOREFUNC(y_preds.squeeze(), y_test.squeeze())\n",
    "axes[3].set_title(f\"sklearn RF: {score:.2f}\")\n",
    "axes[3].set_xlabel(\"Actual\")\n",
    "\n",
    "y_preds = gpr.predict(x_test)\n",
    "axes[4].scatter(y_test, y_preds, alpha=FIG_ALPHA, label=\"random forest\")\n",
    "score = SCOREFUNC(y_preds.squeeze(), y_test.squeeze())\n",
    "axes[4].set_title(f\"sklearn GP: {score:.2f}\")\n",
    "axes[4].set_xlabel(\"Actual\")\n",
    "\n",
    "\n",
    "def get_x_eq_y(axes):\n",
    "    minvals = []\n",
    "    maxvals = []\n",
    "    for ax in axes.flatten():\n",
    "        xlims, ylims = ax.get_xlim(), ax.get_ylim()\n",
    "        minval = min(min(xlims), min(ylims))\n",
    "        maxval = max(max(xlims), max(ylims))\n",
    "        minvals.append(minval)\n",
    "        maxvals.append(maxval)\n",
    "    return min(minvals), max(maxvals)\n",
    "\n",
    "\n",
    "minval, maxval = get_x_eq_y(axes)\n",
    "for ax in axes.flatten():\n",
    "    ax.plot([minval, maxval], [minval, maxval], color=\"black\", ls=\"--\")\n",
    "    ax.set_xticks(ax.get_yticks())\n",
    "    sns.despine()\n",
    "plt.tight_layout()"
   ]
  },
  {
   "cell_type": "markdown",
   "metadata": {},
   "source": [
    "In terms of raw performance, \n",
    "the scikit-learn random forest model performs the best, \n",
    "while the scikit-learn Gaussian Process model performs the worst.\n",
    "This is all done without any hyperparameter tweaking though.\n",
    "Again, laziness is the primary reason \n",
    "why I didn't go deeper into optimizing these baseline models,\n",
    "though, you know, using something like pycaret\n",
    "to satisfy my laziness would be a totally valid way to go.\n",
    "\n",
    "Now, at this point, we might be tempted to say \n",
    "that the NNGP model doesn't compare well vs. the Random Forest model.\n",
    "However, we haven't done any kind of exploration of the parameter space\n",
    "for the neural network models,\n",
    "so such a conclusion would be premature."
   ]
  },
  {
   "cell_type": "markdown",
   "metadata": {},
   "source": [
    "## Optimizing the infinitely wide neural network\n",
    "\n",
    "There's still some pieces of the infinitely wide neural network\n",
    "that I think we need to get a practical handle over.\n",
    "In particular, how does the neural network performance, and the uncertainties,\n",
    "change as a function of:\n",
    "\n",
    "- The number of nodes in a hidden layer?\n",
    "- The depth of the neural network?\n",
    "- The activation function that we use?\n",
    "\n",
    "That's what we're going to explore in this section of the notebook.\n",
    "\n",
    "It's always good to go into an inquiry with some expected range of answers.\n",
    "Here's mine, stated up front:\n",
    "\n",
    "**Number of nodes:** The number of nodes shouldn't matter.\n",
    "We're talking about expanding each layer to infinite width, after all.\n",
    "\n",
    "**Depth:** Depth might affect the structure of the corresponding NNGP kernel.\n",
    "However, I am not well-versed enough in the math to know exactly how.\n",
    "\n",
    "**Activation function:** I suspect the activation function\n",
    "will also affect the structure of the NNGP kernel.\n",
    "A hunch tells me it may have the weakest effect compared to depth,\n",
    "but I can't back that up with any theory.\n",
    "It's just a hunch.\n",
    "\n",
    "Let me first set up some utility functions below to help out with coding later."
   ]
  },
  {
   "cell_type": "code",
   "execution_count": null,
   "metadata": {
    "tags": []
   },
   "outputs": [],
   "source": [
    "# Some utility functions to help out\n",
    "\n",
    "import jax.numpy as np\n",
    "import neural_tangents as nt\n",
    "from neural_tangents import stax\n",
    "from jax import jit \n",
    "\n",
    "\n",
    "class NNGP:\n",
    "    \"\"\"sklearn-compatible NNGP class.\"\"\"\n",
    "    def __init__(self, n_layers:int = 1, nonlinearity=stax.Relu()):\n",
    "        # Storing for information only\n",
    "        self.n_layers = n_layers\n",
    "        self.nonlinearity = nonlinearity\n",
    "\n",
    "        init_fn, apply_fn, kernel_fn = make_inf_nn(n_layers, 300, nonlinearity=nonlinearity)\n",
    "        self.init_fn = init_fn\n",
    "        self.apply_fn = apply_fn\n",
    "        self.kernel_fn = kernel_fn\n",
    "        self.predict_fn = None\n",
    "\n",
    "    def __repr__(self):\n",
    "        return f\"NNGP()\"\n",
    "\n",
    "    def fit(self, X, y):\n",
    "        if len(y.shape) == 1:\n",
    "            y = y.reshape(-1, 1)\n",
    "        self.predict_fn = nt.predict.gradient_descent_mse_ensemble(\n",
    "            self.kernel_fn, X, y, diag_reg=1e-4\n",
    "        )\n",
    "\n",
    "    def predict(self, X):\n",
    "        mean = self.predict_fn(x_test=X, get=\"nngp\", compute_cov=False)\n",
    "        return mean\n",
    "\n",
    "\n",
    "def compute_mean_std(kernel_fn, x_train, y_train, x_test):\n",
    "    \"\"\"Function to compute mean and std function.\"\"\"\n",
    "    predict_fn = nt.predict.gradient_descent_mse_ensemble(\n",
    "        kernel_fn, x_train, y_train, diag_reg=1e-4\n",
    "    )\n",
    "\n",
    "    nngp_mean, nngp_covariance = predict_fn(x_test=x_test, get=\"nngp\", compute_cov=True)\n",
    "\n",
    "    nngp_std = np.sqrt(np.diag(nngp_covariance))\n",
    "    return nngp_mean, nngp_std\n",
    "\n",
    "\n",
    "def plot_results(SCOREFUNC, y_test, mean, std, ax, n_layers, n_hidden, FIG_ALPHA):\n",
    "    \"\"\"Helper plotting function.\"\"\"\n",
    "    ax.errorbar(y_test, mean, yerr=std * 3, marker=\"o\", ls=\"\", alpha=FIG_ALPHA)\n",
    "    score = SCOREFUNC(mean.squeeze(), y_test.squeeze())\n",
    "    ax.set_title(f\"Score: {score:.2f}, {n_layers} layers,\\n{n_hidden} hidden nodes\")\n",
    "\n",
    "\n",
    "def make_inf_nn(n_layers: int, n_hidden: int, nonlinearity=stax.Erf()):\n",
    "    \"\"\"Convenience function to make infinitely wide NN of different architectures.\"\"\"\n",
    "    layers = []\n",
    "    for _ in range(n_layers):\n",
    "        layers.append(stax.Dense(n_hidden))\n",
    "        if nonlinearity:\n",
    "            layers.append(nonlinearity)\n",
    "    init_fn, apply_fn, kernel_fn = stax.serial(\n",
    "        *layers,\n",
    "        stax.Dense(1),\n",
    "    )\n",
    "    apply_fn = jit(apply_fn)\n",
    "    kernel_fn = jit(kernel_fn, static_argnums=(2,))\n",
    "    return init_fn, apply_fn, kernel_fn\n"
   ]
  },
  {
   "cell_type": "markdown",
   "metadata": {},
   "source": [
    "### Experiment setup\n",
    "\n",
    "For number of layers, we're going to explore 1, 10 and 20 layers.\n",
    "\n",
    "For number of nodes per hidden layer, \n",
    "we'll explore what happens with 1, 512, and 4096 nodes.\n",
    "(I mean, it's gonna go to infinity,\n",
    "so why would I try thousands of hidden nodes, right?)\n",
    "\n",
    "For non-linearities, we'll do:\n",
    "\n",
    "- No non-linearities (i.e. simple linear projections)\n",
    "- Erf non-linearity\n",
    "- Relu non-linearity\n",
    "- Gelu non-linearity\n",
    "\n",
    "The three non-linearities are available in neural tangents,\n",
    "so we're using them for convenience.\n",
    "At 4x3x3, we're already at 36 combinations,\n",
    "which I think is more than enough to see any patterns."
   ]
  },
  {
   "cell_type": "markdown",
   "metadata": {},
   "source": [
    "## Linear projections (a.k.a. no non-linearities)\n",
    "\n",
    "Let's start with linear projections and see what happens."
   ]
  },
  {
   "cell_type": "code",
   "execution_count": null,
   "metadata": {
    "tags": []
   },
   "outputs": [],
   "source": [
    "from itertools import product \n",
    "\n",
    "NUM_LAYERS = [1, 10, 20]\n",
    "NUM_HIDDEN = [1, 512, 4096]\n",
    "\n",
    "fig, axes = plt.subplots(nrows=3, ncols=3, figsize=(12, 12), sharex=True, sharey=True)\n",
    "\n",
    "for i, (n_layers, n_hidden) in enumerate(product(NUM_LAYERS, NUM_HIDDEN)):\n",
    "    init_fn, apply_fn, kernel_fn = make_inf_nn(n_layers, n_hidden, nonlinearity=None)\n",
    "    mean, std = compute_mean_std(kernel_fn, x_train, y_train, x_test)\n",
    "\n",
    "    plot_results(SCOREFUNC, y_test, mean, std, axes.flatten()[i], n_layers, n_hidden, FIG_ALPHA)\n",
    "\n",
    "minval, maxval = get_x_eq_y(axes)\n",
    "for ax in axes.flatten():\n",
    "    ax.plot([minval, maxval], [minval, maxval], color=\"black\", ls=\"--\")\n",
    "    sns.despine()\n",
    "\n",
    "for ax in axes[:, 0]:\n",
    "    ax.set_ylabel(\"Predicted\")\n",
    "\n",
    "for ax in axes[-1, :]:\n",
    "    ax.set_xlabel(\"Actual\")\n",
    "\n",
    "plt.tight_layout()"
   ]
  },
  {
   "cell_type": "markdown",
   "metadata": {},
   "source": [
    "Apparently, with no pure linear projections, we:\n",
    "\n",
    "1. Do much better with the performance as measured by posterior expectation values.\n",
    "2. See that layer depth and number of hidden nodes have zero effect on performance and uncertainty widths."
   ]
  },
  {
   "cell_type": "markdown",
   "metadata": {},
   "source": [
    "## Erf nonlinearity\n",
    "\n",
    "Now let's see what happens when we use the Erf nonlinearity,\n",
    "which was the default activation function \n",
    "that the neural tangents demo notebooks use."
   ]
  },
  {
   "cell_type": "code",
   "execution_count": null,
   "metadata": {
    "tags": []
   },
   "outputs": [],
   "source": [
    "fig, axes = plt.subplots(nrows=3, ncols=3, figsize=(12, 12), sharex=True, sharey=True)\n",
    "\n",
    "for i, (n_layers, n_hidden) in enumerate(product(NUM_LAYERS, NUM_HIDDEN)):\n",
    "    init_fn, apply_fn, kernel_fn = make_inf_nn(n_layers, n_hidden)\n",
    "    mean, std = compute_mean_std(kernel_fn, x_train, y_train, x_test)\n",
    "\n",
    "    plot_results(SCOREFUNC, y_test, mean, std, axes.flatten()[i], n_layers, n_hidden, FIG_ALPHA)\n",
    "\n",
    "minval, maxval = get_x_eq_y(axes)\n",
    "for ax in axes.flatten():\n",
    "    ax.plot([minval, maxval], [minval, maxval], color=\"black\", ls=\"--\")\n",
    "    sns.despine()\n",
    "\n",
    "for ax in axes[:, 0]:\n",
    "    ax.set_ylabel(\"Predicted\")\n",
    "\n",
    "for ax in axes[-1, :]:\n",
    "    ax.set_xlabel(\"Actual\")\n",
    "\n",
    "plt.tight_layout()"
   ]
  },
  {
   "cell_type": "markdown",
   "metadata": {},
   "source": [
    "We see here that the Erf non-linearity gives us poorer performance\n",
    "when compared to having no non-linearities as the activation function.\n",
    "\n",
    "Additionally, there is a trend w.r.t. network depth.\n",
    "The deeper the network, the poorer the performance \n",
    "of the corresponding NNGP kernel.\n",
    "I suspect there may be some kind of overfitting that happens.\n",
    "How the overfitting happens, though, \n",
    "remains something of inquiry for me to learn.\n",
    "(My current hypothesis hinges on the hunch \n",
    "that deeper networks correspond to stacked GPs,\n",
    "though I would need further confirmation\n",
    "from someone better at math than I am to see if that is correct.)\n",
    "\n",
    "An intriguing thing I see as well is that as we add depth to the network,\n",
    "the resulting NNGP kernel yields smaller uncertainties.\n",
    "Anthropomorphically, we would say that the neural network\n",
    "is more confident of its predictions even as it becomes generally more wrong.\n",
    "We should call these networks Dunning-Kruger networks."
   ]
  },
  {
   "cell_type": "markdown",
   "metadata": {},
   "source": [
    "## Try with Relu non-linearity\n",
    "\n",
    "Let's now try a popular non-linearity, the Relu non-linearity."
   ]
  },
  {
   "cell_type": "code",
   "execution_count": null,
   "metadata": {
    "tags": []
   },
   "outputs": [],
   "source": [
    "fig, axes = plt.subplots(nrows=3, ncols=3, figsize=(12, 12), sharex=True, sharey=True)\n",
    "\n",
    "for i, (n_layers, n_hidden) in enumerate(product(NUM_LAYERS, NUM_HIDDEN)):\n",
    "    init_fn, apply_fn, kernel_fn = make_inf_nn(n_layers, n_hidden, nonlinearity=stax.Relu())\n",
    "    mean, std = compute_mean_std(kernel_fn, x_train, y_train, x_test)\n",
    "\n",
    "    plot_results(SCOREFUNC, y_test, mean, std, axes.flatten()[i], n_layers, n_hidden, FIG_ALPHA)\n",
    "\n",
    "minval, maxval = get_x_eq_y(axes)\n",
    "for ax in axes.flatten():\n",
    "    ax.plot([minval, maxval], [minval, maxval], color=\"black\", ls=\"--\")\n",
    "    sns.despine()\n",
    "\n",
    "for ax in axes[:, 0]:\n",
    "    ax.set_ylabel(\"Predicted\")\n",
    "\n",
    "for ax in axes[-1, :]:\n",
    "    ax.set_xlabel(\"Actual\")\n",
    "\n",
    "plt.tight_layout()"
   ]
  },
  {
   "cell_type": "markdown",
   "metadata": {},
   "source": [
    "A really cool result shows up here:\n",
    "we have better performance using the Relu activation function!\n",
    "The same trend w.r.t. number of hidden layers also holds:\n",
    "as we increase the number of hidden layers,\n",
    "the performance decreases, and the uncertainty decreases.\n",
    "The network becomes a Dunning-Kruger network."
   ]
  },
  {
   "cell_type": "markdown",
   "metadata": {},
   "source": [
    "## Try with Gelu nonlinearity"
   ]
  },
  {
   "cell_type": "code",
   "execution_count": null,
   "metadata": {
    "tags": []
   },
   "outputs": [],
   "source": [
    "fig, axes = plt.subplots(nrows=3, ncols=3, figsize=(12, 12), sharex=True, sharey=True)\n",
    "\n",
    "for i, (n_layers, n_hidden) in enumerate(product(NUM_LAYERS, NUM_HIDDEN)):\n",
    "    init_fn, apply_fn, kernel_fn = make_inf_nn(n_layers, n_hidden, nonlinearity=stax.Gelu())\n",
    "    mean, std = compute_mean_std(kernel_fn, x_train, y_train, x_test)\n",
    "\n",
    "    plot_results(SCOREFUNC, y_test, mean, std, axes.flatten()[i], n_layers, n_hidden, FIG_ALPHA)\n",
    "\n",
    "minval, maxval = get_x_eq_y(axes)\n",
    "for ax in axes.flatten():\n",
    "    ax.plot([minval, maxval], [minval, maxval], color=\"black\", ls=\"--\")\n",
    "    sns.despine()\n",
    "\n",
    "for ax in axes[:, 0]:\n",
    "    ax.set_ylabel(\"Predicted\")\n",
    "\n",
    "for ax in axes[-1, :]:\n",
    "    ax.set_xlabel(\"Actual\")\n",
    "\n",
    "plt.tight_layout()"
   ]
  },
  {
   "cell_type": "markdown",
   "metadata": {},
   "source": [
    "The Gelu network is a highly interesting one!\n",
    "As the depth increases,\n",
    "the correctness of the network, i.e. performance, doesn't go down,\n",
    "but the uncertainties do become smaller.\n",
    "Anthropomorphically, the network remains just as wrong about predictions,\n",
    "and becomes more confident of them.\n",
    "As usual, the number of hidden nodes\n",
    "affect neither the model's expected performance\n",
    "nor the uncertainties."
   ]
  },
  {
   "cell_type": "markdown",
   "metadata": {},
   "source": [
    "## Summary of Trends observed"
   ]
  },
  {
   "cell_type": "markdown",
   "metadata": {},
   "source": [
    "### Depth\n",
    "\n",
    "The observable trend here is that going with deeper nets \n",
    "that have non-identity activation functions\n",
    "leads to overfitting on the training set;\n",
    "shallower nets have the best performance.\n",
    "This holds in general, with the Gelu network being the exception\n",
    "of the activation functions tested here."
   ]
  },
  {
   "cell_type": "markdown",
   "metadata": {},
   "source": [
    "\n",
    "### Activation functions\n",
    "\n",
    "Of the three tested inside the nt.stax library of nonlinearities,\n",
    "the Gelu activation function provided the best performance\n",
    "based on the posterior expectation,\n",
    "with the Relu activation function a close second.\n",
    "\n",
    "The effect of activation functions on model performance was dramatic,\n",
    "and this was something out of expectation based on my stated prior beliefs.\n",
    "\n",
    "What the effect of activation functions are\n",
    "on the width of the posterior uncertainties\n",
    "is something we will investigate next."
   ]
  },
  {
   "cell_type": "markdown",
   "metadata": {},
   "source": [
    "\n",
    "### Number of hidden nodes\n",
    "\n",
    "From the get-go, \n",
    "I expected that the number of hidden nodes declared in the network constructor\n",
    "should not play a role with NNGP performance,\n",
    "as after all, we're taking the number of hidden nodes to the infinite limit.\n",
    "As the results show, whether we use 1, 2, or 3 hidden nodes in the hidden layer,\n",
    "the infinite-width performance is identical."
   ]
  },
  {
   "cell_type": "markdown",
   "metadata": {},
   "source": [
    "## Comparison between non-linearities' effects on uncertainties\n",
    "\n",
    "Having seen that neural networks begin to exhibit the Dunning-Kruger effect\n",
    "as they get more powerful (at least in the limit of infinite width),\n",
    "we will limit further probing of our model \n",
    "to just the single layer depth networks with a single hidden node.\n",
    "I'm playing with fire here, just to prove the point.\n",
    "Take that, overparameterized networks, we're going infinite now.\n",
    "\n",
    "To investigate how the nonlinearities affect uncertainty,\n",
    "we will plot the distribution of standard deviations\n",
    "of the test set predictions.\n",
    "It will be an ECDF plot, so that we can cram everything into one plot\n",
    "and compare directly.\n",
    "(Histograms are so 1950s!)"
   ]
  },
  {
   "cell_type": "code",
   "execution_count": null,
   "metadata": {
    "tags": []
   },
   "outputs": [],
   "source": [
    "from neural_tangents import stax\n",
    "nonlinearities = {\n",
    "    \"none\": None,\n",
    "    \"ReLu\": stax.Relu(),\n",
    "    \"GeLu\": stax.Gelu(),\n",
    "    \"Erf\": stax.Erf(),\n",
    "}\n",
    "\n",
    "fig, ax = plt.subplots(nrows=1, ncols=1, figsize=(4, 4))\n",
    "\n",
    "\n",
    "def ecdf(data):\n",
    "    x, y = np.sort(data), np.arange(1, len(data)+1) / len(data)\n",
    "    return x, y\n",
    "\n",
    "\n",
    "for i, (name, nonlinearity) in enumerate(nonlinearities.items()):\n",
    "    init_fn, apply_fn, kernel_fn = make_inf_nn(n_layers=1, n_hidden=1, nonlinearity=nonlinearity)\n",
    "    mean, std = compute_mean_std(kernel_fn, x_train, y_train, x_test)\n",
    "    x, y = ecdf(std)\n",
    "    ax.plot(x, y, label=name)\n",
    "ax.set_xlabel(\"Std. Dev\")\n",
    "ax.set_ylabel(\"Cumulative Fraction\")\n",
    "ax.set_title(\"Distribution\\nof uncertainties\")\n",
    "ax.legend()\n",
    "sns.despine()\n"
   ]
  },
  {
   "cell_type": "markdown",
   "metadata": {},
   "source": [
    "What do we see here? \n",
    "Well, to begin with, infinitely wide neural networks with no nonlinearities\n",
    "end up being the most uncertain about their predictions.\n",
    "The ReLu and GeLu network end up showing \n",
    "practically identical distributions of uncertainties in test set predictions.\n",
    "Meanwhile, the Erf network, which was the worst of all of the networks tested,\n",
    "showed a tighter distribution of uncertainties,\n",
    "though roughly at the same scale as the other networks."
   ]
  },
  {
   "cell_type": "markdown",
   "metadata": {},
   "source": [
    "## How do we measure the \"performance\" of the uncertainties?\n",
    "\n",
    "Well, one way to do so is to ask what fraction of the uncertainties' range\n",
    "capture the correct value.\n",
    "We have the standard deviation of predictions from our GP;\n",
    "3x the standard deviation gives us about 96% of the posterior probability.\n",
    "If the mean ± 3x standard deviation encapsulates the true value,\n",
    "then we know our posterior standard deviation\n",
    "was highly likely to capture the true value,\n",
    "even if the expected value was off."
   ]
  },
  {
   "cell_type": "code",
   "execution_count": null,
   "metadata": {},
   "outputs": [],
   "source": [
    "def evaluate_uncertainty(mean: float, std: float, y_test: float):\n",
    "    lt = y_test < mean + std * 3\n",
    "    gt = y_test > mean - std * 3\n",
    "    return np.logical_and(lt, gt)\n"
   ]
  },
  {
   "cell_type": "code",
   "execution_count": null,
   "metadata": {},
   "outputs": [],
   "source": [
    "from jax import vmap\n",
    "\n",
    "results = dict()\n",
    "for i, (name, nonlinearity) in enumerate(nonlinearities.items()):\n",
    "    init_fn, apply_fn, kernel_fn = make_inf_nn(n_layers=1, n_hidden=1, nonlinearity=nonlinearity)\n",
    "    mean, std = compute_mean_std(kernel_fn, x_train, y_train, x_test)\n",
    "    result = vmap(evaluate_uncertainty)(mean, std, y_test)\n",
    "    results[name] = result.squeeze()"
   ]
  },
  {
   "cell_type": "code",
   "execution_count": null,
   "metadata": {
    "tags": []
   },
   "outputs": [],
   "source": [
    "import pandas as pd\n",
    "\n",
    "pd.DataFrame(results).mean().plot(kind=\"bar\", rot=45)\n",
    "ax = plt.gca()\n",
    "ax.set_xlabel(\"Activation\")\n",
    "ax.set_ylabel(\"P(correct)\")\n",
    "ax.set_ylim(0, 1)\n",
    "sns.despine()"
   ]
  },
  {
   "cell_type": "markdown",
   "metadata": {},
   "source": [
    "As we can see above, the ReLu function has the best performing uncertainties,\n",
    "with 70% of the posteriors harbouring the correct value.\n",
    "One might say that the ReLu infinite networks \n",
    "are best calibrated for prediction purposes.\n",
    "\n",
    "You'd _think_ that the linear projection networks\n",
    "would have well-calibrated uncertainties given their widths,\n",
    "and that's certainly something I thought would happen,\n",
    "but that turned out not to be the case."
   ]
  },
  {
   "cell_type": "markdown",
   "metadata": {},
   "source": [
    "## Using the uncertainties for decision-making\n",
    "\n",
    "In a chemistry setting, we're usually concerned with prioritization tasks.\n",
    "A chemist's time for testing molecules is usually finite,\n",
    "so we need some help rank-ordering items in a principled fashion.\n",
    "Well, turns out when you have Gaussian uncertainties,\n",
    "you can do this pretty easily.\n",
    "\n",
    "If you know anything about Bayesian optimization,\n",
    "we need to have an acquisition function that helps us rank-order our predictions.\n",
    "The acquisition function that gets chosen is going to depend on the task at hand.\n",
    "Because we're dealing with solubility as a task,\n",
    "and in medicinal chemistry high solubility is a desirable property,\n",
    "we can rank order our test samples according to\n",
    "the probability that they are above some threshold value.\n",
    "This is effectively evaluating the survival function,\n",
    "or `1 - CDF(threshold)`, of a Gaussian."
   ]
  },
  {
   "cell_type": "code",
   "execution_count": null,
   "metadata": {},
   "outputs": [],
   "source": [
    "test_indices = indices[n_train:]"
   ]
  },
  {
   "cell_type": "code",
   "execution_count": null,
   "metadata": {},
   "outputs": [],
   "source": [
    "from jax.scipy.stats import norm\n",
    "def prob_above_threshold(mean: float, std: float, threshold: float):\n",
    "    return 1 - norm.cdf(x=threshold, loc=mean, scale=std)"
   ]
  },
  {
   "cell_type": "code",
   "execution_count": null,
   "metadata": {},
   "outputs": [],
   "source": [
    "from functools import partial\n",
    "prob_thresh = dict()\n",
    "for i, (name, nonlinearity) in enumerate(nonlinearities.items()):\n",
    "    init_fn, apply_fn, kernel_fn = make_inf_nn(n_layers=1, n_hidden=1, nonlinearity=nonlinearity)\n",
    "    mean, std = compute_mean_std(kernel_fn, x_train, y_train, x_test)\n",
    "    result = vmap(partial(prob_above_threshold, threshold=-0.1))(mean, std)\n",
    "    prob_thresh[name] = result.squeeze()"
   ]
  },
  {
   "cell_type": "markdown",
   "metadata": {},
   "source": [
    "Let's now query for molecules in the test set\n",
    "that are predicted to have greater than 50% probability\n",
    "of having solubility greater than 0.\n",
    "This would be akin to helping a chemist prioritize the selection of molecules\n",
    "where we'd be happy to bet at 1:1 odds of having a desirable property,\n",
    "given the model's predictions.\n",
    "\n",
    "Remember that the uncertainties dataframe is indexed differently,\n",
    "so we'll need to do some fancy indexing to get back to\n",
    "the indexing that is used in the original dataframe."
   ]
  },
  {
   "cell_type": "code",
   "execution_count": null,
   "metadata": {},
   "outputs": [],
   "source": [
    "prob_thresh_df = pd.DataFrame(prob_thresh).sort_values(\"ReLu\", ascending=False).query(\"ReLu > 0.5\")\n",
    "prob_thresh_df"
   ]
  },
  {
   "cell_type": "code",
   "execution_count": null,
   "metadata": {
    "tags": []
   },
   "outputs": [],
   "source": [
    "test_samples.loc[test_indices[prob_thresh_df.index.values]]"
   ]
  },
  {
   "cell_type": "markdown",
   "metadata": {},
   "source": [
    "Hey, not bad! From what I know about chemistry,\n",
    "glycerol is highly soluble in water,\n",
    "and is used by microbiologists to protect frozen bacteria cells\n",
    "from being cracked open upon freeze/thawing cycles.\n",
    "Urea is definitely a molecule that is soluble in water;\n",
    "we make it all the time in our bodies as a waste product,\n",
    "and is carried out of our body in our urine.\n",
    "Raffinose is a sugar, and so with all of the oxygens and hydrogens in there,\n",
    "it'll likely be dissolvable in water.\n",
    "2-hydroxy-something always sounds like it'll be soluble in water,\n",
    "and Ethanol... well, we know how that one goes :)."
   ]
  },
  {
   "cell_type": "markdown",
   "metadata": {},
   "source": [
    "## Conclusions\n",
    "\n",
    "Overall, this deep dive into infinite-width neural networks tells me that\n",
    "we deep learners have a superb tool at our disposal\n",
    "for modelling complex relationships\n",
    "that don't have an obvious input-output structure.\n",
    "We can write a single layer neural network,\n",
    "expand it out to its infinite width form easily\n",
    "to get a Neural Net Gaussian Process kernel that,\n",
    "when conditioned on training data,\n",
    "could give us good test performance.\n",
    "(No guarantees though, we'd have to benchmark.)\n",
    "For expensive data collection problems\n",
    "like those that we find in the life sciences,\n",
    "this is a superb modelling tool on many levels.\n",
    "\n",
    "Firstly, Gaussian processes are highly flexible and inherently Bayesian modelling tools,\n",
    "but proper kernel design is difficult;\n",
    "neural net design is an easier alternative language to work with\n",
    "to generate GPs for our modelling problems.\n",
    "Infinitely wide neural networks give us the best of both worlds.\n",
    "\n",
    "Secondly, because we get a highly flexible function learner,\n",
    "complex functions are easily modelled\n",
    "without needing to do much work with hyperparameter tuning.\n",
    "Down with the Sisyphean tasks of twiddling with neural networks!\n",
    "(OK, maybe I'm taking the rant a bit too far.)\n",
    "Single layer infinitely wide neural networks did a practically great job on solubility\n",
    "with standard molecular descriptors,\n",
    "were as easy to wield as the cheminformatics-favourite Random Forest model,\n",
    "and had performance metrics effectively on par with Random Forests.\n",
    "We may be able to squeeze out more performance by adopting alternative model architectures\n",
    "that have different inductive biases, such as graph neural networks,\n",
    "but I have to admit, it was pretty easy to get to the performance levels we observed here.\n",
    "\n",
    "Thirdly, because NNGPs are inherently Bayesian,\n",
    "the suite of tools from Bayesian decision science are at our disposal.\n",
    "Prioritizing, ranking, selecting...\n",
    "once you have the posterior likelihood density at hand,\n",
    "you have the principle by which these activities can be done.\n",
    "No more premature thresholds;\n",
    "delay all binarization until the end,\n",
    "when we have the posterior likelihood calculated.\n",
    "No fancy methods needed either;\n",
    "\"likelihood is all you need\"."
   ]
  },
  {
   "cell_type": "markdown",
   "metadata": {},
   "source": [
    "## Lessons Learned\n",
    "\n",
    "From this exercise, it seems evident to me that\n",
    "the nonlinearity is the biggest thing that affects the kernel,\n",
    "which in turn affects the expected performance\n",
    "(as given by the posterior means)\n",
    "and uncertainty calibration\n",
    "(as measured by the posterior standard deviations).\n",
    "If you remember where my headspace was when we first started,\n",
    "I was completely wrong w.r.t. this point;\n",
    "the NNGP kernel is highly influenced by the choice of activation function.\n",
    "Where I was correct was that the number of hidden nodes per layer\n",
    "didn't matter one bit for the performance of the network,\n",
    "because we are, after all, going to infinity ~~and beyond~~.\n",
    "\n",
    "Knowing that we can get pretty decent expected predictive performance\n",
    "_and_ somewhat nicely calibrated uncertainties\n",
    "without needing to fiddle with layer width, number of layers,\n",
    "number of training epochs, learning rate,\n",
    "and the myriad of other hyperparameters that we might be interested in...\n",
    "is actually kind of a nice result.\n",
    "With the NNGP kernel, we basically eliminate a ton of hyperparameters in training neural nets,\n",
    "and can focus primarily on the non-linear activation function\n",
    "to design the best NNGP kernel.\n",
    "Hyperparameter tuning is _the worst_ Sisyphean task\n",
    "that will bore the crap out of any data scientist.\n",
    "\n",
    "Hence, from the perspective of _workflow_,\n",
    "using infinitely-wide neural networks is an attractive proposition\n",
    "for modelling problems that do not have\n",
    "an obvious input-output relationship.\n",
    "At the end of the day, by using infinitely wide neural networks,\n",
    "fitting a Gaussian Process with a particular kernel to the problem at hand,\n",
    "and this cuts down on the number of hyperparameters that we have to fiddle with.\n",
    "Pragmatically, I have a hunch that we can mostly stick with single layer NNGPs\n",
    "and leverage the uncertainty instead.\n",
    "\n",
    "Finally, I have to comment on the lack of compute intensity needed \n",
    "to wield infinitely wide neural networks.\n",
    "Everything I did in this notebook was first prototyped on an M1 MacBook Air,\n",
    "done in emulation mode.\n",
    "No GPUs were used. None!\n",
    "The entire notebook runs from top to bottom in under two minutes.\n",
    "Take that, Transformers."
   ]
  },
  {
   "cell_type": "code",
   "execution_count": null,
   "metadata": {},
   "outputs": [],
   "source": [
    "%watermark"
   ]
  },
  {
   "cell_type": "code",
   "execution_count": null,
   "metadata": {
    "tags": []
   },
   "outputs": [],
   "source": [
    "%watermark --iversions"
   ]
  }
 ],
 "metadata": {
  "interpreter": {
   "hash": "b7410733da85e48a7d98359cb1662001d6b4cc6f90e43427714d358e9ea2f663"
  },
  "kernelspec": {
   "display_name": "essays-on-data-science",
   "language": "python",
   "name": "python3"
  },
  "language_info": {
   "codemirror_mode": {
    "name": "ipython",
    "version": 3
   },
   "file_extension": ".py",
   "mimetype": "text/x-python",
   "name": "python",
   "nbconvert_exporter": "python",
   "pygments_lexer": "ipython3",
   "version": "3.10.4"
  }
 },
 "nbformat": 4,
 "nbformat_minor": 4
}
